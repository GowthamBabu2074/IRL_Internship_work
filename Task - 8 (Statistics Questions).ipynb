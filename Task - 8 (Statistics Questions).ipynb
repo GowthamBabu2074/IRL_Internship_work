{
 "cells": [
  {
   "cell_type": "markdown",
   "metadata": {},
   "source": [
    "#### 1. Binomial Distribution |"
   ]
  },
  {
   "cell_type": "code",
   "execution_count": 25,
   "metadata": {},
   "outputs": [
    {
     "name": "stdout",
     "output_type": "stream",
     "text": [
      "1.09 1\n",
      "0.696\n"
     ]
    }
   ],
   "source": [
    "def factorial(n):\n",
    "    return 1 if n == 0 else n*factorial(n-1)\n",
    "\n",
    "def combination(n, a):\n",
    "    return factorial(n) / (factorial(a) * factorial(n-a))\n",
    "\n",
    "def binomial(a, n, b):\n",
    "    return combination(n, a) * b**a * (1-b)**(n-a)\n",
    "\n",
    "c, d = list(map(float, input().split()))\n",
    "odd = c / d\n",
    "tot = list()\n",
    "for i in range(3, 7):\n",
    "    tot.append(binomial(i, 6, odd / (1 + odd)))\n",
    "print(round(sum(tot), 3))"
   ]
  },
  {
   "cell_type": "markdown",
   "metadata": {},
   "source": [
    "#### 2. Binomial Distribution ||"
   ]
  },
  {
   "cell_type": "code",
   "execution_count": 18,
   "metadata": {},
   "outputs": [
    {
     "name": "stdout",
     "output_type": "stream",
     "text": [
      "12 10\n",
      "0.891\n",
      "0.342\n"
     ]
    }
   ],
   "source": [
    "def factorial(n):\n",
    "    return 1 if n == 0 else n*factorial(n-1)\n",
    "\n",
    "def combination(n, a):\n",
    "    return factorial(n) / (factorial(a) * factorial(n-a))\n",
    "\n",
    "def binomial(a, n, b):\n",
    "    return combination(n, a) * b**a * (1-b)**(n-a)\n",
    "\n",
    "b, n = list(map(int, input().split(\" \")))\n",
    "print(round(sum([binomial(i, n, b/100) for i in range(3)]), 3))\n",
    "print(round(sum([binomial(i, n, b/100) for i in range(2, n + 1)]), 3))"
   ]
  },
  {
   "cell_type": "markdown",
   "metadata": {},
   "source": [
    "#### 3. Normal Distribution |"
   ]
  },
  {
   "cell_type": "code",
   "execution_count": 39,
   "metadata": {},
   "outputs": [
    {
     "name": "stdout",
     "output_type": "stream",
     "text": [
      "0.4012936743170763\n",
      "0.3413447460685428\n"
     ]
    }
   ],
   "source": [
    "import math\n",
    "mean = 20\n",
    "sd = 2\n",
    "x = 19.5\n",
    "y1 = 20\n",
    "y2 = 22\n",
    "\n",
    "def normal(x, mean, sd):\n",
    "    return 1/2*(1 + math.erf((x - mean) / (sd*math.sqrt(2))))\n",
    "\n",
    "print (normal(x, mean, sd))\n",
    "print (normal(y2, mean, sd) - normal(y1, mean, sd))"
   ]
  },
  {
   "cell_type": "markdown",
   "metadata": {},
   "source": [
    "#### 4. Normal Distribution ||"
   ]
  },
  {
   "cell_type": "code",
   "execution_count": 51,
   "metadata": {},
   "outputs": [
    {
     "name": "stdout",
     "output_type": "stream",
     "text": [
      "15.87\n",
      "84.13\n",
      "15.87\n"
     ]
    }
   ],
   "source": [
    "import math\n",
    "mean = 70\n",
    "sd = 10\n",
    "y1 = 80\n",
    "y2 = 60\n",
    "\n",
    "def normal(x, mean, sd):\n",
    "    return 1/2*(1 + math.erf((x - mean) / (sd*math.sqrt(2))))\n",
    "\n",
    "print(round((1-normal(y1, mean, sd))*100, 2))\n",
    "print(round((1-normal(y2, mean, sd))*100, 2))\n",
    "print(round((normal(y2, mean, sd))*100, 2))"
   ]
  },
  {
   "cell_type": "markdown",
   "metadata": {},
   "source": [
    "#### 5. The Central Limit Theorem |"
   ]
  },
  {
   "cell_type": "code",
   "execution_count": 70,
   "metadata": {},
   "outputs": [
    {
     "name": "stdout",
     "output_type": "stream",
     "text": [
      "0.0098\n"
     ]
    }
   ],
   "source": [
    "import math\n",
    "\n",
    "a = 9800\n",
    "b = 49\n",
    "c = 205\n",
    "d = 105 #7 * 15\n",
    "\n",
    "print(round(1/2*(1 + math.erf((a - (b * c)) / (d * math.sqrt(2)))), 4))"
   ]
  },
  {
   "cell_type": "markdown",
   "metadata": {},
   "source": [
    "#### 6. The Central Limit Theorem ||"
   ]
  },
  {
   "cell_type": "code",
   "execution_count": 80,
   "metadata": {},
   "outputs": [
    {
     "name": "stdout",
     "output_type": "stream",
     "text": [
      "0.6915\n"
     ]
    }
   ],
   "source": [
    "tik = 250\n",
    "stud = 100\n",
    "mean = 2.4\n",
    "sd = 2\n",
    "\n",
    "def normal(x, mean, sd):\n",
    "    return 1/2*(1 + math.erf((x - mean) / (sd*math.sqrt(2))))\n",
    "\n",
    "print(round(normal(250, 240, 20), 4)) #100*2.4, math.sqrt(100) * 2"
   ]
  },
  {
   "cell_type": "markdown",
   "metadata": {},
   "source": [
    "#### 7. The Central Limit Theorem |||"
   ]
  },
  {
   "cell_type": "code",
   "execution_count": 88,
   "metadata": {},
   "outputs": [
    {
     "name": "stdout",
     "output_type": "stream",
     "text": [
      "484.32\n",
      "515.68\n"
     ]
    }
   ],
   "source": [
    "import math\n",
    "\n",
    "sam = 100\n",
    "mean = 500\n",
    "sd = 80\n",
    "\n",
    "print(round(-1.96 * (sd / math.sqrt(sam)) + mean, 2))\n",
    "print(round(1.96 * (sd / math.sqrt(sam)) + mean, 2))"
   ]
  },
  {
   "cell_type": "markdown",
   "metadata": {},
   "source": [
    "#### 8. Pearson Correlation |"
   ]
  },
  {
   "cell_type": "code",
   "execution_count": 126,
   "metadata": {},
   "outputs": [
    {
     "name": "stdout",
     "output_type": "stream",
     "text": [
      "10\n",
      "10 9.8 8 7.8 7.7 7 6 5 4 2\n",
      "200 44 32 24 22 17 15 12 8 4\n",
      "0.612\n"
     ]
    }
   ],
   "source": [
    "n = int(input())\n",
    "x = list(map(float,input().split()))\n",
    "y = list(map(float,input().split()))\n",
    "\n",
    "mean_x = sum(x) / n\n",
    "mean_y = sum(y) / n\n",
    "\n",
    "\n",
    "def stdev(data):\n",
    "    mean = sum(data) / len(data)\n",
    "    var = sum((a - mean) ** 2 for a in data) / len(data)\n",
    "    std = math.sqrt(var)\n",
    "    return std\n",
    "\n",
    "stdv_x = stdev(x)\n",
    "stdv_y = stdev(y)\n",
    "\n",
    "correlation = sum([(x[i] - mean_x) * (y[i] - mean_y) for i in range(n)]) / (n * stdv_x * stdv_y)\n",
    "\n",
    "print(round(correlation, 3))"
   ]
  },
  {
   "cell_type": "markdown",
   "metadata": {},
   "source": [
    "#### 9. Least Squares"
   ]
  },
  {
   "cell_type": "code",
   "execution_count": 149,
   "metadata": {},
   "outputs": [
    {
     "name": "stdout",
     "output_type": "stream",
     "text": [
      "95 85\n",
      "85 95\n",
      "80 70\n",
      "70 65\n",
      "60 70\n",
      "78.288\n"
     ]
    }
   ],
   "source": [
    "def mean(x):\n",
    "    return sum(x)/len(x)\n",
    "\n",
    "def regression(x, y):\n",
    "    a = sum([(x[i] - mean(x)) * (y[i] - mean(y)) for i in range(len(x))]) / sum([(j - mean(x))**2 for j in x])\n",
    "    b = mean(y) - (a * mean(x))\n",
    "    return b + (a * 80)\n",
    "\n",
    "x = []\n",
    "y = []\n",
    "\n",
    "for i in range(5):\n",
    "    b, a = list(map(int, input().split()))\n",
    "    x.append(b)\n",
    "    y.append(a)\n",
    "\n",
    "print(round(regression(x, y), 3))"
   ]
  },
  {
   "cell_type": "markdown",
   "metadata": {},
   "source": [
    "#### 10. Multi Linear Regression"
   ]
  },
  {
   "cell_type": "code",
   "execution_count": 59,
   "metadata": {},
   "outputs": [
    {
     "name": "stdout",
     "output_type": "stream",
     "text": [
      "2 7\n",
      "0.18 0.89 109.85\n",
      "1.0 0.26 155.72\n",
      "0.92 0.11 137.66\n",
      "0.07 0.37 76.17\n",
      "0.85 0.16 139.75\n",
      "0.99 0.41 162.6\n",
      "0.87 0.47 151.77\n",
      "4\n",
      "0.49 0.18\n",
      "105.21\n",
      "0.57 0.83\n",
      "142.67\n",
      "0.56 0.64\n",
      "132.94\n",
      "0.76 0.18\n",
      "129.7\n"
     ]
    }
   ],
   "source": [
    "from sklearn import linear_model\n",
    "\n",
    "m, n = list(map(int, input().strip().split()))\n",
    "x = [0] * n\n",
    "y = [0] * n\n",
    "\n",
    "for i in range(n):\n",
    "    a = list(map(float, input().strip().split()))\n",
    "    x[i] = a[:-1]\n",
    "    y[i] = a[-1]\n",
    "\n",
    "model = linear_model.LinearRegression()\n",
    "model.fit(x, y)\n",
    "inter = model.intercept_\n",
    "cof = model.coef_\n",
    "\n",
    "b = int(input())\n",
    "\n",
    "for i in range(b):\n",
    "    c = list(map(float, input().split()))\n",
    "    d = inter + sum([cof[j] * c[j] for j in range(m)])\n",
    "    print(round(d, 2))"
   ]
  },
  {
   "cell_type": "code",
   "execution_count": null,
   "metadata": {},
   "outputs": [],
   "source": []
  }
 ],
 "metadata": {
  "kernelspec": {
   "display_name": "Python 3",
   "language": "python",
   "name": "python3"
  },
  "language_info": {
   "codemirror_mode": {
    "name": "ipython",
    "version": 3
   },
   "file_extension": ".py",
   "mimetype": "text/x-python",
   "name": "python",
   "nbconvert_exporter": "python",
   "pygments_lexer": "ipython3",
   "version": "3.8.3"
  }
 },
 "nbformat": 4,
 "nbformat_minor": 4
}
