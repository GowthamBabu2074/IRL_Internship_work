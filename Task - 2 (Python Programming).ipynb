{
 "cells": [
  {
   "cell_type": "markdown",
   "metadata": {},
   "source": [
    "### 1. Nested lists"
   ]
  },
  {
   "cell_type": "code",
   "execution_count": 63,
   "metadata": {},
   "outputs": [
    {
     "name": "stdout",
     "output_type": "stream",
     "text": [
      "5\n",
      "a\n",
      "2.5\n",
      "b\n",
      "2.2\n",
      "c\n",
      "2.5\n",
      "d\n",
      "2.1\n",
      "e\n",
      "2.2\n",
      "b\n",
      "e\n"
     ]
    }
   ],
   "source": [
    "if __name__ == '__main__':\n",
    "    N = int(input())\n",
    "\n",
    "    students = list()\n",
    "    for i in range(N):\n",
    "        name = input()\n",
    "        score = float(input())\n",
    "        students.append([name, score])\n",
    "\n",
    "    scores = set([students[x][1] for x in range(N)]) #retrieve all the values\n",
    "    scores = list(scores) #convert to list\n",
    "    scores.sort()\n",
    "\n",
    "    students = [x[0] for x in students if x[1] == scores[1]] # retrieve all student names\n",
    "    students.sort()\n",
    "\n",
    "    for std in students:\n",
    "        print (std)"
   ]
  },
  {
   "cell_type": "markdown",
   "metadata": {},
   "source": [
    "### 2. List Comprehensions"
   ]
  },
  {
   "cell_type": "code",
   "execution_count": 64,
   "metadata": {},
   "outputs": [
    {
     "name": "stdout",
     "output_type": "stream",
     "text": [
      "1\n",
      "1\n",
      "1\n",
      "2\n",
      "[[0, 0, 0], [0, 0, 1], [0, 1, 0], [1, 0, 0], [1, 1, 1]]\n"
     ]
    }
   ],
   "source": [
    "if __name__ == '__main__':\n",
    "    x = int(input())\n",
    "    y = int(input())\n",
    "    z = int(input())\n",
    "    n = int(input())\n",
    "    print([[X, Y, Z] for X in range(x+1) for Y in range(y+1) for Z in range(z+1) if X + Y + Z != n])"
   ]
  },
  {
   "cell_type": "markdown",
   "metadata": {},
   "source": [
    "### 3. Find the Runner"
   ]
  },
  {
   "cell_type": "code",
   "execution_count": 71,
   "metadata": {},
   "outputs": [
    {
     "name": "stdout",
     "output_type": "stream",
     "text": [
      "5\n",
      "2 3 5 6 6\n",
      "5\n"
     ]
    }
   ],
   "source": [
    " if __name__ == '__main__':\n",
    "    n = int(input())\n",
    "    arr = map(int, input().split())\n",
    "    a = set(arr)\n",
    "    b = list(a)\n",
    "    print(sorted(b)[-2])"
   ]
  },
  {
   "cell_type": "markdown",
   "metadata": {},
   "source": [
    "### 4. Finding Percentages"
   ]
  },
  {
   "cell_type": "code",
   "execution_count": 85,
   "metadata": {},
   "outputs": [
    {
     "name": "stdout",
     "output_type": "stream",
     "text": [
      "2\n",
      "a 2 3\n",
      "b 2 4\n",
      "b\n",
      "3.00\n"
     ]
    }
   ],
   "source": [
    "if __name__ == '__main__':\n",
    "    N = int(input())\n",
    "    stud = {}\n",
    "    for i in range(N):\n",
    "        name, *line = input().split()\n",
    "        scores = list(map(float, line))\n",
    "        stud[name] = scores\n",
    "    query_name = input()\n",
    "    marks = list(stud[query_name])\n",
    "\n",
    "    avg = sum(marks) / len(marks)\n",
    "    print(\"%0.2f\" % (avg))"
   ]
  },
  {
   "cell_type": "markdown",
   "metadata": {},
   "source": [
    "### 5. Lists"
   ]
  },
  {
   "cell_type": "code",
   "execution_count": 111,
   "metadata": {},
   "outputs": [
    {
     "name": "stdout",
     "output_type": "stream",
     "text": [
      "2\n",
      "insert 3 5\n",
      "sort\n"
     ]
    }
   ],
   "source": [
    "if __name__ == '__main__':\n",
    "    N = int(input())\n",
    "    a = []\n",
    "    for i in range(0, N):\n",
    "        b = input().split()\n",
    "\n",
    "        if b[0] == 'insert':\n",
    "            a.insert(int(b[1]), int(b[2]))\n",
    "        elif b[0] == 'remove':\n",
    "            a.remove(int(b[1]))\n",
    "        elif b[0] == 'append':\n",
    "            a.append(int(b[1]))\n",
    "        elif b[0] == 'sort':\n",
    "            a.sort()\n",
    "        elif b[0] == 'pop':\n",
    "            a.pop()\n",
    "        elif b[0] == 'reverse':\n",
    "            a.reverse()\n",
    "        elif b[0] == 'print':\n",
    "            print (a)"
   ]
  },
  {
   "cell_type": "markdown",
   "metadata": {},
   "source": [
    "### 6. Tuples"
   ]
  },
  {
   "cell_type": "code",
   "execution_count": 119,
   "metadata": {},
   "outputs": [
    {
     "name": "stdout",
     "output_type": "stream",
     "text": [
      "2\n",
      "1 2\n",
      "-3550055125485641917\n"
     ]
    }
   ],
   "source": [
    "if __name__ == '__main__':\n",
    "    n = int(input())\n",
    "    integer_list = map(int, input().split())\n",
    "    a = tuple(integer_list)\n",
    "    print(hash(a))"
   ]
  },
  {
   "cell_type": "markdown",
   "metadata": {},
   "source": [
    "### 7. Introduction to sets"
   ]
  },
  {
   "cell_type": "code",
   "execution_count": 7,
   "metadata": {},
   "outputs": [
    {
     "name": "stdout",
     "output_type": "stream",
     "text": [
      "2\n",
      "2 4\n",
      "3.0\n"
     ]
    }
   ],
   "source": [
    "def average(array):\n",
    "    # your code goes here\n",
    "    for i in range(n):\n",
    "        a = set(array)\n",
    "        b = sum(a)\n",
    "        c = len(a)\n",
    "        return b/c\n",
    "\n",
    "if __name__ == '__main__':\n",
    "    n = int(input())\n",
    "    array = list(map(int, input().split()))\n",
    "    result = average(array)\n",
    "    print(result)"
   ]
  },
  {
   "cell_type": "markdown",
   "metadata": {},
   "source": [
    "### 8. NO idea"
   ]
  },
  {
   "cell_type": "code",
   "execution_count": 18,
   "metadata": {},
   "outputs": [
    {
     "name": "stdout",
     "output_type": "stream",
     "text": [
      "3 2\n",
      "1 5 3\n",
      "3 1\n",
      "5 7\n",
      "1\n"
     ]
    }
   ],
   "source": [
    "a = list(map(int, input().split())) # input 1 (3 2)\n",
    "\n",
    "b = map(int, input().split()) #input 2 (1 5 3)\n",
    "\n",
    "A = set(map(int, input().split())) # (3 1)\n",
    "B = set(map(int, input().split())) # (5 7)\n",
    "\n",
    "x = 0\n",
    "\n",
    "for i in b:\n",
    "    if i in A:\n",
    "        x = x + 1\n",
    "    elif i in B:\n",
    "        x = x - 1\n",
    "print(x)"
   ]
  },
  {
   "cell_type": "markdown",
   "metadata": {},
   "source": [
    "### 9. Symmeteric DIfference"
   ]
  },
  {
   "cell_type": "code",
   "execution_count": 28,
   "metadata": {},
   "outputs": [
    {
     "name": "stdout",
     "output_type": "stream",
     "text": [
      "4\n",
      "2 4 5 9\n",
      "4 \n",
      "2 4 11 12\n",
      "5\n",
      "9\n",
      "11\n",
      "12\n"
     ]
    }
   ],
   "source": [
    "a = int(input()) #4\n",
    "b = set(map(int, input().split())) # 2 4 5 9\n",
    "c = int(input()) # 4\n",
    "d = set(map(int, input().split())) # 2 4 11 12\n",
    "\n",
    "g = []\n",
    "\n",
    "e = b.difference(d)\n",
    "for i in e:\n",
    "    g.append(i)\n",
    "    \n",
    "f = d.difference(b)\n",
    "for i in f:\n",
    "    g.append(i)\n",
    "    \n",
    "h = sorted(g)\n",
    "\n",
    "for i in h:\n",
    "    print(i)"
   ]
  },
  {
   "cell_type": "markdown",
   "metadata": {},
   "source": [
    "### 10. set.add()"
   ]
  },
  {
   "cell_type": "code",
   "execution_count": 46,
   "metadata": {},
   "outputs": [
    {
     "name": "stdout",
     "output_type": "stream",
     "text": [
      "4\n",
      "a\n",
      "b\n",
      "b\n",
      "c\n",
      "3\n"
     ]
    }
   ],
   "source": [
    "a = int(input())\n",
    "\n",
    "b = set() \n",
    "\n",
    "for i in range(a):\n",
    "    b.add(input())\n",
    "\n",
    "print (len(b))"
   ]
  },
  {
   "cell_type": "markdown",
   "metadata": {},
   "source": [
    "### 11.Set .discard(), .remove() & .pop()"
   ]
  },
  {
   "cell_type": "code",
   "execution_count": 52,
   "metadata": {},
   "outputs": [
    {
     "name": "stdout",
     "output_type": "stream",
     "text": [
      "4\n",
      "1 2 3 4\n",
      "2\n",
      "remove 3\n",
      "pop\n",
      "6\n"
     ]
    }
   ],
   "source": [
    "n = input()\n",
    "s = set(map(int, input().split()))\n",
    "\n",
    "a =int(input())\n",
    "\n",
    "for i in range(a):\n",
    "    b = input().split()\n",
    "    \n",
    "    if b[0]==\"remove\":\n",
    "        s.remove(int(b[1]))\n",
    "    elif b[0]==\"discard\":\n",
    "        s.discard(int(b[1]))\n",
    "    else:\n",
    "        s.pop()\n",
    "print (sum(list(s)))"
   ]
  },
  {
   "cell_type": "markdown",
   "metadata": {},
   "source": [
    "### 12. Set. union()"
   ]
  },
  {
   "cell_type": "code",
   "execution_count": 54,
   "metadata": {},
   "outputs": [
    {
     "name": "stdout",
     "output_type": "stream",
     "text": [
      "2\n",
      "1 2\n",
      "2\n",
      "1 3\n",
      "3\n"
     ]
    }
   ],
   "source": [
    "eng = int(input())\n",
    "a = set(map(int, input().split()))\n",
    "frn = int(input())\n",
    "b = set(map(int, input().split()))\n",
    "\n",
    "c = a.union(b)\n",
    "d = set(c)\n",
    "print(len(c))"
   ]
  },
  {
   "cell_type": "markdown",
   "metadata": {},
   "source": [
    "### 13. Set.interaction()"
   ]
  },
  {
   "cell_type": "code",
   "execution_count": 57,
   "metadata": {},
   "outputs": [
    {
     "name": "stdout",
     "output_type": "stream",
     "text": [
      "2\n",
      "1 2\n",
      "2\n",
      "1 3\n",
      "1\n"
     ]
    }
   ],
   "source": [
    "eng = int(input())\n",
    "a = set(map(int, input().split()))\n",
    "frn = int(input())\n",
    "b = set(map(int, input().split()))\n",
    "\n",
    "c = a.intersection(b)\n",
    "d = set(c)\n",
    "print(len(c))"
   ]
  },
  {
   "cell_type": "markdown",
   "metadata": {},
   "source": [
    "### 14. Set.difference()"
   ]
  },
  {
   "cell_type": "code",
   "execution_count": 59,
   "metadata": {},
   "outputs": [
    {
     "name": "stdout",
     "output_type": "stream",
     "text": [
      "2\n",
      "1 2\n",
      "2\n",
      "1 3\n",
      "1\n"
     ]
    }
   ],
   "source": [
    "eng = int(input())\n",
    "a = set(map(int, input().split()))\n",
    "frn = int(input())\n",
    "b = set(map(int, input().split()))\n",
    "\n",
    "c = a.difference(b)\n",
    "d = set(c)\n",
    "print(len(c))"
   ]
  },
  {
   "cell_type": "markdown",
   "metadata": {},
   "source": [
    "### 15. Set.symmetric_difference()"
   ]
  },
  {
   "cell_type": "code",
   "execution_count": 61,
   "metadata": {},
   "outputs": [
    {
     "name": "stdout",
     "output_type": "stream",
     "text": [
      "2\n",
      "1 2\n",
      "2\n",
      "1 3\n",
      "2\n"
     ]
    }
   ],
   "source": [
    "eng = int(input())\n",
    "a = set(map(int, input().split()))\n",
    "frn = int(input())\n",
    "b = set(map(int, input().split()))\n",
    "\n",
    "c = a.symmetric_difference(b)\n",
    "d = set(c)\n",
    "print(len(c))"
   ]
  },
  {
   "cell_type": "markdown",
   "metadata": {},
   "source": [
    "### 16. Set Mutations()"
   ]
  },
  {
   "cell_type": "code",
   "execution_count": 63,
   "metadata": {},
   "outputs": [
    {
     "name": "stdout",
     "output_type": "stream",
     "text": [
      "4\n",
      "1 2 3 4\n",
      "1\n",
      "update 2\n",
      "5 6\n",
      "21\n"
     ]
    }
   ],
   "source": [
    "n = input()\n",
    "s = set(map(int, input().split()))\n",
    "\n",
    "a =int(input())\n",
    "\n",
    "for i in range(a):\n",
    "    b = input().split()\n",
    "\n",
    "    S = set(map(int, input().split()))\n",
    "\n",
    "    if b[0] =='intersection_update':\n",
    "        s.intersection_update(S)\n",
    "    elif b[0] =='update':\n",
    "        s.update(S)\n",
    "    elif b[0] =='symmetric_difference_update':\n",
    "        s.symmetric_difference_update(S)\n",
    "    elif b[0] =='difference_update':\n",
    "        s.difference_update(S)\n",
    "print (sum(s))"
   ]
  },
  {
   "cell_type": "markdown",
   "metadata": {},
   "source": [
    "### 17.Captains Room"
   ]
  },
  {
   "cell_type": "code",
   "execution_count": 79,
   "metadata": {},
   "outputs": [
    {
     "name": "stdout",
     "output_type": "stream",
     "text": [
      "5\n",
      "1 2 3 6 5 4 4 2 5 3 6 1 6 5 3 2 4 1 2 5 1 4 3 6 8 4 3 1 5 6 2\n",
      "8\n"
     ]
    }
   ],
   "source": [
    "from collections import Counter\n",
    "k = int(input())\n",
    "a = list(map(int, input().split()))\n",
    "\n",
    "b = Counter(a)\n",
    "\n",
    "for num, repeat in b.items():\n",
    "    if repeat == 1:\n",
    "        print(num)"
   ]
  },
  {
   "cell_type": "markdown",
   "metadata": {},
   "source": [
    "### 18. Check Subset"
   ]
  },
  {
   "cell_type": "code",
   "execution_count": 83,
   "metadata": {},
   "outputs": [
    {
     "name": "stdout",
     "output_type": "stream",
     "text": [
      "3\n",
      "5\n",
      "1 2 3 4 5\n",
      "9 \n",
      "9 8 7 6 5 4 3 2 1\n",
      "True\n",
      "1\n",
      "2\n",
      "5\n",
      "3 6 5 4 1 \n",
      "False\n",
      "7\n",
      "1 2 3 5 6 8 9 \n",
      "3\n",
      "9 8 2\n",
      "False\n"
     ]
    }
   ],
   "source": [
    "case = int(input())\n",
    "\n",
    "for i in range(case):\n",
    "    a = int(input())\n",
    "    A = set(map(int, input().split()))\n",
    "    b = int(input())\n",
    "    B = set(map(int, input().split()))\n",
    "    if A.union(B) == B:\n",
    "        print('True')\n",
    "    else:\n",
    "        print('False')"
   ]
  },
  {
   "cell_type": "markdown",
   "metadata": {},
   "source": [
    "### 19. Check Strict Superset"
   ]
  },
  {
   "cell_type": "code",
   "execution_count": 94,
   "metadata": {},
   "outputs": [
    {
     "name": "stdout",
     "output_type": "stream",
     "text": [
      "1 2 3 4 5 6 7 8 9 10 11 12 23 45 84 78\n",
      "2\n",
      "1 2 3 \n",
      "100 23\n",
      "False\n"
     ]
    }
   ],
   "source": [
    "A = set(map(int, input().split()))\n",
    "a = int(input())\n",
    "for i in range(a):\n",
    "    b = set(map(int, input().split()))\n",
    "    \n",
    "    if (A.issuperset(b) != True) or (len(A) == len(b)): \n",
    "        print(False)\n",
    "        break \n",
    "else: \n",
    "    print(True)"
   ]
  },
  {
   "cell_type": "code",
   "execution_count": null,
   "metadata": {},
   "outputs": [],
   "source": []
  }
 ],
 "metadata": {
  "kernelspec": {
   "display_name": "Python 3",
   "language": "python",
   "name": "python3"
  },
  "language_info": {
   "codemirror_mode": {
    "name": "ipython",
    "version": 3
   },
   "file_extension": ".py",
   "mimetype": "text/x-python",
   "name": "python",
   "nbconvert_exporter": "python",
   "pygments_lexer": "ipython3",
   "version": "3.8.3"
  }
 },
 "nbformat": 4,
 "nbformat_minor": 4
}
