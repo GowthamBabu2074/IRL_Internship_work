{
 "cells": [
  {
   "cell_type": "code",
   "execution_count": 24,
   "metadata": {},
   "outputs": [
    {
     "name": "stdout",
     "output_type": "stream",
     "text": [
      "repeteaded value is 3.0 missing values are 4.0\n"
     ]
    }
   ],
   "source": [
    "given_list = [3, 1, 2, 3, 5, 6, 7]\n",
    "len(given_list)\n",
    "\n",
    "New_list = []\n",
    "for i in range(1, len(given_list)+1):\n",
    "    New_list.append(i)\n",
    "\n",
    "diff = sum(New_list) - sum(given_list)\n",
    "diff\n",
    "\n",
    "SOS_given_list = [i*i for i in given_list]\n",
    "\n",
    "SOS_New_list = [i*i for i in New_list]\n",
    "    \n",
    "diff2 = sum(SOS_New_list) - sum(SOS_given_list)\n",
    "diff2\n",
    "\n",
    "repeated_number = abs((diff2 - diff) / 2)\n",
    "misding_number = abs((diff2 + diff) / 2)\n",
    "\n",
    "print('repeteaded value is' , repeated_number, 'missing values are', misding_number)"
   ]
  }
 ],
 "metadata": {
  "kernelspec": {
   "display_name": "Python 3",
   "language": "python",
   "name": "python3"
  },
  "language_info": {
   "codemirror_mode": {
    "name": "ipython",
    "version": 3
   },
   "file_extension": ".py",
   "mimetype": "text/x-python",
   "name": "python",
   "nbconvert_exporter": "python",
   "pygments_lexer": "ipython3",
   "version": "3.8.3"
  }
 },
 "nbformat": 4,
 "nbformat_minor": 4
}
